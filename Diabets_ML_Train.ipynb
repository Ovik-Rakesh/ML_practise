{
  "nbformat": 4,
  "nbformat_minor": 0,
  "metadata": {
    "colab": {
      "provenance": [],
      "authorship_tag": "ABX9TyNPv+Q+HU8UJqI9348sJ/gF",
      "include_colab_link": true
    },
    "kernelspec": {
      "name": "python3",
      "display_name": "Python 3"
    },
    "language_info": {
      "name": "python"
    }
  },
  "cells": [
    {
      "cell_type": "markdown",
      "metadata": {
        "id": "view-in-github",
        "colab_type": "text"
      },
      "source": [
        "<a href=\"https://colab.research.google.com/github/rakesh22230/ML_practise/blob/main/Diabets_ML_Train.ipynb\" target=\"_parent\"><img src=\"https://colab.research.google.com/assets/colab-badge.svg\" alt=\"Open In Colab\"/></a>"
      ]
    },
    {
      "cell_type": "code",
      "execution_count": 12,
      "metadata": {
        "colab": {
          "base_uri": "https://localhost:8080/"
        },
        "id": "ZUZohsKdE7qR",
        "outputId": "a3f8cf07-7262-41b4-f717-0283145844d0"
      },
      "outputs": [
        {
          "output_type": "stream",
          "name": "stdout",
          "text": [
            "Training complete.\n",
            "-0.8582420095420096\n",
            "[ 0.01565323  0.00585266 -0.00248661  0.00073844 -0.00022976  0.01364543\n",
            "  0.14239101  0.0035676 ]\n",
            "Mean Squared Error: 0.14370648838141728\n"
          ]
        }
      ],
      "source": [
        "import pandas as pd\n",
        "import numpy as np\n",
        "import matplotlib.pyplot as plt\n",
        "\n",
        "# Load data\n",
        "dataset = pd.read_csv(\"https://raw.githubusercontent.com/rakesh22230/ML_practise/refs/heads/main/diabetes.csv\")\n",
        "dataset.head()\n",
        "\n",
        "\"\"\"\n",
        "# Plot data points\n",
        "dataset.plot(x='Hours', y='Scores', style='o')\n",
        "plt.title('Hours vs Percentage')\n",
        "plt.xlabel('Hours Studied')\n",
        "plt.ylabel('Percentage Score')\n",
        "plt.show()\n",
        "\n",
        "\"\"\"\n",
        "# Prepare input and output\n",
        "x = dataset.iloc[:, :-1].values\n",
        "y = dataset.iloc[:, -1].values\n",
        "\n",
        "# Split data into train and test sets\n",
        "from sklearn.model_selection import train_test_split\n",
        "X_train, X_test, y_train, y_test = train_test_split(x, y, test_size=0.2, random_state=0)\n",
        "\n",
        "# Train Linear Regression model\n",
        "from sklearn.linear_model import LinearRegression\n",
        "regressor = LinearRegression()\n",
        "regressor.fit(X_train, y_train)\n",
        "print(\"Training complete.\")\n",
        "\n",
        "# Print intercept and coefficient\n",
        "print(regressor.intercept_)\n",
        "print(regressor.coef_)\n",
        "\n",
        "# Predict test set results\n",
        "y_pred = regressor.predict(X_test)\n",
        "\n",
        "# Compare actual vs predicted\n",
        "df = pd.DataFrame({'Actual': y_test, 'Predicted': y_pred})\n",
        "df.head()\n",
        "\n",
        "# Calculate mean squared error\n",
        "from sklearn import metrics\n",
        "print('Mean Squared Error:', metrics.mean_squared_error(y_test, y_pred))\n"
      ]
    }
  ]
}