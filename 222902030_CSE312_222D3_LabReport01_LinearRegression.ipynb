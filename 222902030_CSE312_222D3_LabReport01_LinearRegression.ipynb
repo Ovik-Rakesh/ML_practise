{
  "nbformat": 4,
  "nbformat_minor": 0,
  "metadata": {
    "colab": {
      "provenance": [],
      "authorship_tag": "ABX9TyOjol8sAMx2WiTEkbzo1b4J",
      "include_colab_link": true
    },
    "kernelspec": {
      "name": "python3",
      "display_name": "Python 3"
    },
    "language_info": {
      "name": "python"
    }
  },
  "cells": [
    {
      "cell_type": "markdown",
      "metadata": {
        "id": "view-in-github",
        "colab_type": "text"
      },
      "source": [
        "<a href=\"https://colab.research.google.com/github/rakesh22230/Machine_Learning_Practise/blob/main/222902030_CSE312_222D3_LabReport01_LinearRegression.ipynb\" target=\"_parent\"><img src=\"https://colab.research.google.com/assets/colab-badge.svg\" alt=\"Open In Colab\"/></a>"
      ]
    },
    {
      "cell_type": "code",
      "execution_count": 14,
      "metadata": {
        "colab": {
          "base_uri": "https://localhost:8080/"
        },
        "id": "2bASPZtnFlk0",
        "outputId": "3e007c12-7f33-4021-f342-efec961ef5c2"
      },
      "outputs": [
        {
          "output_type": "stream",
          "name": "stdout",
          "text": [
            "Original Dataset (First 5 Rows):\n",
            "   Pregnancies  Glucose  BloodPressure  SkinThickness  Insulin   BMI  \\\n",
            "0            6      148             72             35        0  33.6   \n",
            "1            1       85             66             29        0  26.6   \n",
            "2            8      183             64              0        0  23.3   \n",
            "3            1       89             66             23       94  28.1   \n",
            "4            0      137             40             35      168  43.1   \n",
            "\n",
            "   DiabetesPedigreeFunction  Age  Outcome  \n",
            "0                     0.627   50        1  \n",
            "1                     0.351   31        0  \n",
            "2                     0.672   32        1  \n",
            "3                     0.167   21        0  \n",
            "4                     2.288   33        1  \n",
            "\n",
            "After Preprocessing (First 5 Rows):\n",
            "   Pregnancies  Glucose  BloodPressure  SkinThickness     Insulin   BMI  \\\n",
            "0            6    199.0           72.0       35.00000  155.548223  33.6   \n",
            "1            1     85.0           66.0       29.00000  155.548223  26.6   \n",
            "2            8    183.0           64.0       29.15342  155.548223  23.3   \n",
            "3            1     44.0           66.0       23.00000   94.000000  28.1   \n",
            "4            0    137.0           40.0       35.00000  168.000000  43.1   \n",
            "\n",
            "   DiabetesPedigreeFunction  Age  Outcome  \n",
            "0                     0.627   50        1  \n",
            "1                     0.351   31        0  \n",
            "2                     0.672   32        1  \n",
            "3                     0.167   21        0  \n",
            "4                     2.288   33        1  \n",
            "\n",
            "\n",
            "--------- Model Evaluation ----------\n",
            "\n",
            "Accuracy: 0.77\n",
            "Confusion Matrix:\n",
            "[[141  16]\n",
            " [ 36  38]]\n",
            "Precision: 0.70\n",
            "Recall: 0.51\n",
            "F1 Score: 0.59\n"
          ]
        }
      ],
      "source": [
        "# ---------------------- Import libraries ----------------------\n",
        "import pandas as pd\n",
        "import numpy as np\n",
        "from sklearn.linear_model import LinearRegression\n",
        "from sklearn.metrics import accuracy_score, confusion_matrix, precision_score, recall_score, f1_score\n",
        "from sklearn.model_selection import train_test_split\n",
        "\n",
        "# ---------------------- Load Dataset ----------------------\n",
        "url = \"https://raw.githubusercontent.com/rakesh22230/Machine_Learning_Practise/refs/heads/main/diabetes.csv\"\n",
        "dataset = pd.read_csv(url)\n",
        "\n",
        "print(\"Original Dataset (First 5 Rows):\")\n",
        "print(dataset.head())\n",
        "\n",
        "# ---------------------- Data Preprocessing ----------------------\n",
        "\n",
        "# Replace 0 values in selected columns with column mean\n",
        "cols_with_zero = ['Glucose', 'BloodPressure', 'SkinThickness', 'Insulin', 'BMI']\n",
        "\n",
        "for col in cols_with_zero:\n",
        "    dataset[col] = dataset[col].replace(0, np.nan)\n",
        "    dataset[col] = dataset[col].fillna(dataset[col].mean())\n",
        "\n",
        "\n",
        "# Replace first row’s Glucose with the max glucose value\n",
        "max_glucose = dataset['Glucose'].max()\n",
        "dataset.at[0, 'Glucose'] = max_glucose\n",
        "\n",
        "# Replace glucose values of records having the lowest age with min glucose\n",
        "min_age = dataset['Age'].min()\n",
        "min_glucose = dataset['Glucose'].min()\n",
        "dataset.loc[dataset['Age'] == min_age, 'Glucose'] = min_glucose\n",
        "\n",
        "# Show processed data\n",
        "print(\"\\nAfter Preprocessing (First 5 Rows):\")\n",
        "print(dataset.head())\n",
        "\n",
        "# ---------------------- Data Modeling ----------------------\n",
        "\n",
        "# Step 1: Separate input features (X) and target (y)\n",
        "X = dataset.drop('Outcome', axis=1)\n",
        "y = dataset['Outcome']\n",
        "\n",
        "# Step 2: Split into training and test sets\n",
        "X_train, X_test, y_train, y_test = train_test_split(X, y, test_size=0.3, random_state=0)\n",
        "\n",
        "# Step 3: Train the Linear Regression model\n",
        "model = LinearRegression()\n",
        "model.fit(X_train, y_train)\n",
        "\n",
        "# Step 4: Predict outcomes and round them to 0 or 1\n",
        "y_pred = model.predict(X_test)\n",
        "y_pred_rounded = np.round(y_pred)\n",
        "\n",
        "# ---------------------- Evaluation ----------------------\n",
        "\n",
        "# Step 1: Evaluate model performance\n",
        "accuracy = accuracy_score(y_test, y_pred_rounded)\n",
        "conf_matrix = confusion_matrix(y_test, y_pred_rounded)\n",
        "precision = precision_score(y_test, y_pred_rounded)\n",
        "recall = recall_score(y_test, y_pred_rounded)\n",
        "f1 = f1_score(y_test, y_pred_rounded)\n",
        "\n",
        "# Step 2: Print results\n",
        "print(\"\\n\\n--------- Model Evaluation ----------\\n\")\n",
        "print(f\"Accuracy: {accuracy:.2f}\")\n",
        "print(\"Confusion Matrix:\")\n",
        "print(conf_matrix)\n",
        "print(f\"Precision: {precision:.2f}\")\n",
        "print(f\"Recall: {recall:.2f}\")\n",
        "print(f\"F1 Score: {f1:.2f}\")\n"
      ]
    }
  ]
}